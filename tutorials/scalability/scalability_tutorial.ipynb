{
 "cells": [
  {
   "cell_type": "markdown",
   "metadata": {},
   "source": [
    "# Building the theory\n",
    "\n",
    "\n",
    "Testing scalablity means to measure how a program deals with an increasing number of cores and problem size. A perfectly scalable problem would divide computational work perfectly among available resources. We measure this property by calculating how much time a program takes until completion. \n",
    "\n",
    "In this context, we will formalize a program as a function that takes two values, $c$ the number of cores and $s$ the problem size, and maps to a completion time:\n",
    "\n",
    "$$\n",
    "P(c,s): \\mathbb{R}^2 \\to \\mathbb{R}\n",
    "$$\n",
    "\n",
    "Following the idea of big-O notation, this function can be approximated as \n",
    "\n",
    "$$\n",
    "P(c,s) \\approx \\cfrac{\\alpha s^n}{c} + N\n",
    "$$\n",
    "\n",
    "Where:\n",
    "\n",
    "- $\\alpha$ is real positive number.\n",
    "- $s$ is the problem size, a real positive number. \n",
    "- $n$ the biggest exponent of the polynomial. \n",
    "- $c$ the number of cores. \n",
    "- $N$ additive gaussian white noise. \n",
    "\n",
    "In any case, scalability will be measure with the composite function $F(c)$\n",
    "\n",
    "$$\n",
    "F(c) = \\left.\\cfrac{P(c, s)}{P(1, s)}\\right\\rvert_{s=G(c)}\n",
    "$$\n",
    "\n",
    "Let analyze this expresion. First, in the denominator, $c$ takes the value of $1$, this means that we will compare how much time a program with $c$ cores takes againts the same program running with only one core. Second, $s$ takes the value $G(c)$, a function that maps a number of cores to an appropiate problem size, this will make sense in the *weak scalability* section. "
   ]
  }
 ],
 "metadata": {
  "kernelspec": {
   "display_name": "Python 3",
   "language": "python",
   "name": "python3"
  },
  "language_info": {
   "codemirror_mode": {
    "name": "ipython",
    "version": 3
   },
   "file_extension": ".py",
   "mimetype": "text/x-python",
   "name": "python",
   "nbconvert_exporter": "python",
   "pygments_lexer": "ipython3",
   "version": "3.6.0"
  }
 },
 "nbformat": 4,
 "nbformat_minor": 2
}
