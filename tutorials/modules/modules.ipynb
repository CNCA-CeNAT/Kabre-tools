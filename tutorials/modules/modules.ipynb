{
 "cells": [
  {
   "cell_type": "markdown",
   "metadata": {},
   "source": [
    "|<img src=\"logoL.png\", width=\"400\"/> | <img src=\"logoR.png\", width=\"400\"/>|\n",
    "|:---:|:----:|\n",
    "|Centro Nacional de Alta Tecnología | Colaboratorio Nacional de Computación Avanzada|\n",
    "|www.cenat.ac.cr | cnca@cenat.ac.cr|\n",
    "\n",
    "# Modules & PBS scripting with Python\n",
    "\n",
    "In this tutorial you will learn how to use `modules.py`, a module unix utility miniclone, to create PBS scripts with python. \n",
    "\n",
    "### Requirements\n",
    "\n",
    "It is recommented to take the *Kabré usage tutorial* before. Even so, to complete this tutorial you need basic knowledge of \n",
    "\n",
    "- Linux shell and environment variables\n",
    "- Environment modules\n",
    "- PBS job files\n",
    "- Python programming\n",
    "\n",
    "## Environment modules\n",
    "\n",
    "An environment module is a file specifying paths to binaries and environment variables. It allow users to choose an specific interpreter, compiler or program. For example, without invocating an specific python interpreter, Kabre offers an standard CPython 3K implementation:"
   ]
  },
  {
   "cell_type": "raw",
   "metadata": {
    "collapsed": true
   },
   "source": [
    "$ python3\n",
    "Python 3.5.2 (default, Oct 26 2016, 10:29:18) \n",
    "[GCC Intel(R) C++ gcc 4.8.5 mode] on linux\n",
    "Type \"help\", \"copyright\", \"credits\" or \"license\" for more information.\n",
    ">>> \n"
   ]
  },
  {
   "cell_type": "markdown",
   "metadata": {},
   "source": [
    "But the user can request an specific interpreter:"
   ]
  },
  {
   "cell_type": "raw",
   "metadata": {},
   "source": [
    "$ module load intelpython/3.5 \n",
    "$ python\n",
    "Python 3.5.2 |Intel Corporation| (default, Oct 20 2016, 03:10:33) \n",
    "[GCC 4.8.2 20140120 (Red Hat 4.8.2-15)] on linux\n",
    "Type \"help\", \"copyright\", \"credits\" or \"license\" for more information.\n",
    "Intel(R) Distribution for Python is brought to you by Intel Corporation.\n",
    "Please check out: https://software.intel.com/en-us/python-distribution\n",
    ">>> \n"
   ]
  },
  {
   "cell_type": "markdown",
   "metadata": {},
   "source": [
    "This is specially useful when compiling to different architectures, for example, compiling with `gcc` or `icc` for Intel and `PGI` for Nvidia. \n",
    "\n",
    "The most used module commands are:\n",
    "\n",
    "| Command | Description |\n",
    "|:--------|:------------|\n",
    "| `$ module avail`  | List available modules |\n",
    "| `$ module load`   | Load a module |\n",
    "| `$ module list`   | List loaded modules |\n",
    "| `$ module unload` | Unload a module |\n",
    "\n",
    "Executing these commands causes changes in some environment variables. When a program is invoked from shell, a sequence of `fork()` and `exec()` system calls creates a child process and loads the corresponding memory image. This new process inherit the father's environment variables, recently changed by the `module` command. \n",
    "\n",
    "Open a ssh session in Kabré and try the four commands presented above.\n",
    "\n",
    "`modules.py` mimics this behavior. To kill that instance of python, press Ctrl-D."
   ]
  },
  {
   "cell_type": "code",
   "execution_count": 1,
   "metadata": {},
   "outputs": [
    {
     "ename": "ModuleNotFoundError",
     "evalue": "No module named 'modules'",
     "output_type": "error",
     "traceback": [
      "\u001b[0;31m---------------------------------------------------------------------------\u001b[0m",
      "\u001b[0;31mModuleNotFoundError\u001b[0m                       Traceback (most recent call last)",
      "\u001b[0;32m<ipython-input-1-e63f39f9342c>\u001b[0m in \u001b[0;36m<module>\u001b[0;34m()\u001b[0m\n\u001b[0;32m----> 1\u001b[0;31m \u001b[0;32mimport\u001b[0m \u001b[0mmodules\u001b[0m\u001b[0;34m\u001b[0m\u001b[0m\n\u001b[0m\u001b[1;32m      2\u001b[0m \u001b[0mmodules\u001b[0m\u001b[0;34m.\u001b[0m\u001b[0mrun\u001b[0m\u001b[0;34m(\u001b[0m\u001b[0;34m\"python3\"\u001b[0m\u001b[0;34m)\u001b[0m\u001b[0;34m\u001b[0m\u001b[0m\n",
      "\u001b[0;31mModuleNotFoundError\u001b[0m: No module named 'modules'"
     ]
    }
   ],
   "source": [
    "import modules\n",
    "modules.run(\"python3\")"
   ]
  },
  {
   "cell_type": "code",
   "execution_count": null,
   "metadata": {
    "collapsed": true
   },
   "outputs": [],
   "source": [
    "import modules\n",
    "modules.load('intelpython/3.5')\n",
    "modules.run('python3')"
   ]
  },
  {
   "cell_type": "markdown",
   "metadata": {},
   "source": [
    "When modules is used, the environment variables are changed within the Python interpreter, all process invoked through `modules.call()` will inherit those new variables. Modules offers the following functions:\n",
    "\n",
    "---\n",
    "\n",
    "```python\n",
    "modules.avail(return_str=False)\n",
    "```\n",
    "\n",
    "List all available modules. If `return_str = True`, it returns a string instead of printing on screen. \n",
    "    \n",
    "**Parameters**\n",
    "- `return_str:bool` Return a string instead of printing on screen. \n",
    "   \n",
    "   \n",
    "**Return value**\n",
    "- None.\n",
    "\n",
    "---\n",
    "```python   \n",
    "modules.load(module_name)\n",
    "```\n",
    "\n",
    "Load a module. \n",
    "\n",
    "**Parameters**\n",
    "- `module_name:str` module name, as printed by `module.avail()`\n",
    "\n",
    "**Return value**\n",
    "- None. \n",
    "\n",
    "---\n",
    "```python\n",
    "modules.loaded(return_str=False)\n",
    "```\n",
    "\n",
    "List loaded modules. \n",
    "\n",
    "**Parameters**\n",
    "- `return_str:bool` Return a string instead of printing on screen.\n",
    "\n",
    "**Return value**\n",
    "- None.\n",
    "\n",
    "---\n",
    "```python\n",
    "modules.unload(module_name)\n",
    "```\n",
    "\n",
    "Unload a module. \n",
    "\n",
    "**Parameters**\n",
    "- `module_name:str` module name, as printed by `module.avail()`\n",
    "\n",
    "**Return value**\n",
    "- None.\n",
    "\n",
    "---\n",
    "```python\n",
    "modules.run(command, capture_output=False)\n",
    "```\n",
    "\n",
    "Run a command, does not relay on the shell (i.e. safe call). \n",
    "\n",
    "**Parameters**\n",
    "- `command:[str, list]` command to execute, for example\n",
    "\n",
    "    [\"ls\", \"-a\", \"/\"]\n",
    "    \n",
    "    \"ls -a /\"\n",
    "    \n",
    "\n",
    "- `capture_output:bool` If true, returns a `CompletedProcess` object, as explained [here](https://docs.python.org/3.5/library/subprocess.html#subprocess.CompletedProcess).\n",
    "\n",
    "**Return value**\n",
    "- `int` process return code \n",
    "\n",
    "\n",
    "\n",
    "   "
   ]
  }
 ],
 "metadata": {
  "kernelspec": {
   "display_name": "Python 3",
   "language": "python",
   "name": "python3"
  },
  "language_info": {
   "codemirror_mode": {
    "name": "ipython",
    "version": 3
   },
   "file_extension": ".py",
   "mimetype": "text/x-python",
   "name": "python",
   "nbconvert_exporter": "python",
   "pygments_lexer": "ipython3",
   "version": "3.6.0"
  }
 },
 "nbformat": 4,
 "nbformat_minor": 2
}
