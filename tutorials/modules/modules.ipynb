{
 "cells": [
  {
   "cell_type": "markdown",
   "metadata": {},
   "source": [
    "|<img src=\"logoL.png\", width=\"400\"/> | <img src=\"logoR.png\", width=\"400\"/>|\n",
    "|:---:|:----:|\n",
    "|Centro Nacional de Alta Tecnología | Colaboratorio Nacional de Computación Avanzada|\n",
    "|www.cenat.ac.cr | cnca@cenat.ac.cr|\n",
    "\n",
    "# Modules & PBS scripting with Python\n",
    "\n",
    "In this tutorial you will learn how to use `modules.py`, a module unix utility miniclone, to create PBS scripts with python. \n",
    "\n",
    "### Requirements\n",
    "\n",
    "It is recommented to take the *Kabré usage tutorial* before. Even so, to complete this tutorial you need basic knowledge of \n",
    "\n",
    "- Linux shell and environment variables\n",
    "- Environment modules\n",
    "- PBS job files\n",
    "- Python programming\n",
    "\n",
    "## Environment modules\n",
    "\n",
    "An environment module is a file specifying paths to binaries and environment variables. It allow users to choose an specific interpreter, compiler or program. For example, without invocating an specific python interpreter, Kabre offers an standard CPython 3K implementation:"
   ]
  },
  {
   "cell_type": "raw",
   "metadata": {
    "collapsed": true
   },
   "source": [
    "$ python3\n",
    "Python 3.5.2 (default, Oct 26 2016, 10:29:18) \n",
    "[GCC Intel(R) C++ gcc 4.8.5 mode] on linux\n",
    "Type \"help\", \"copyright\", \"credits\" or \"license\" for more information.\n",
    ">>> \n"
   ]
  },
  {
   "cell_type": "markdown",
   "metadata": {},
   "source": [
    "But the user can request an specific interpreter:"
   ]
  },
  {
   "cell_type": "raw",
   "metadata": {},
   "source": [
    "$ module load intelpython/3.5 \n",
    "$ python\n",
    "Python 3.5.2 |Intel Corporation| (default, Oct 20 2016, 03:10:33) \n",
    "[GCC 4.8.2 20140120 (Red Hat 4.8.2-15)] on linux\n",
    "Type \"help\", \"copyright\", \"credits\" or \"license\" for more information.\n",
    "Intel(R) Distribution for Python is brought to you by Intel Corporation.\n",
    "Please check out: https://software.intel.com/en-us/python-distribution\n",
    ">>> \n"
   ]
  },
  {
   "cell_type": "markdown",
   "metadata": {},
   "source": [
    "This is specially useful when compiling to different architectures, for example, compiling with `gcc` or `icc` for Intel and `PGI` for Nvidia. \n",
    "\n",
    "The most used module commands are:\n",
    "\n",
    "| Command | Description |\n",
    "|:--------|:------------|\n",
    "| `$ module avail`  | List available modules |\n",
    "| `$ module load`   | Load a module |\n",
    "| `$ module list`   | List loaded modules |\n",
    "| `$ module unload` | Unload a module |\n",
    "\n",
    "Executing these commands causes changes in some environment variables. When a program is invoked from shell, a sequence of `fork()` and `exec()` system calls creates a child process and loads the corresponding memory image. This new process inherit the father's environment variables, recently changed by the `module` command. \n",
    "\n",
    "Open a ssh session in Kabré and try the four commands presented above.\n",
    "\n",
    "`modules.py` mimics this behavior:"
   ]
  },
  {
   "cell_type": "code",
   "execution_count": 10,
   "metadata": {},
   "outputs": [
    {
     "data": {
      "text/plain": [
       "'Using built-in specs.\\nCOLLECT_GCC=gcc\\nCOLLECT_LTO_WRAPPER=/opt/compilers/gcc-6.2.0/libexec/gcc/x86_64-pc-linux-gnu/6.2.0/lto-wrapper\\nTarget: x86_64-pc-linux-gnu\\nConfigured with: ../gcc-6.2.0/configure --prefix=/opt/compilers/gcc-6.2.0 --enable-shared --disable-multilib --with-isl=/opt/libs/isl-0.17 --with-gmp=/opt/libs/gmp-6.1.1 --with-mpfr=/opt/libs/mpfr-3.1.5 --with-mpc=/opt/libs/mpc-1.0.3 --with-tune=generic --enable-languages=c,c++,fortran --enable-threads=posix --enable-__cxa_atexit --with-system-zlib --enable-plugin --enable-initfini-array --with-arch_32=x86-64 --enable-bootstrap --disable-libunwind-exceptions --enable-gnu-unique-object --enable-linker-build-id\\nThread model: posix\\ngcc version 6.2.0 (GCC) \\n'"
      ]
     },
     "execution_count": 10,
     "metadata": {},
     "output_type": "execute_result"
    }
   ],
   "source": [
    "import modules\n",
    "p = modules.run(\"gcc -v\", capture_output=True)\n",
    "p.stderr"
   ]
  },
  {
   "cell_type": "code",
   "execution_count": 12,
   "metadata": {},
   "outputs": [
    {
     "data": {
      "text/plain": [
       "'Using built-in specs.\\nCOLLECT_GCC=gcc\\nCOLLECT_LTO_WRAPPER=/opt/compilers/gcc-6.2.0/libexec/gcc/x86_64-pc-linux-gnu/6.2.0/lto-wrapper\\nTarget: x86_64-pc-linux-gnu\\nConfigured with: ../gcc-6.2.0/configure --prefix=/opt/compilers/gcc-6.2.0 --enable-shared --disable-multilib --with-isl=/opt/libs/isl-0.17 --with-gmp=/opt/libs/gmp-6.1.1 --with-mpfr=/opt/libs/mpfr-3.1.5 --with-mpc=/opt/libs/mpc-1.0.3 --with-tune=generic --enable-languages=c,c++,fortran --enable-threads=posix --enable-__cxa_atexit --with-system-zlib --enable-plugin --enable-initfini-array --with-arch_32=x86-64 --enable-bootstrap --disable-libunwind-exceptions --enable-gnu-unique-object --enable-linker-build-id\\nThread model: posix\\ngcc version 6.2.0 (GCC) \\n'"
      ]
     },
     "execution_count": 12,
     "metadata": {},
     "output_type": "execute_result"
    }
   ],
   "source": [
    "import modules\n",
    "modules.load('gcc/6.2.0')\n",
    "p = modules.run('gcc -v', capture_output=True)\n",
    "p.stderr"
   ]
  },
  {
   "cell_type": "markdown",
   "metadata": {},
   "source": [
    "When modules is used, the environment variables are changed within the Python interpreter, all process invoked through `modules.call()` will inherit those new variables. Modules offers the following functions:\n",
    "\n",
    "---\n",
    "\n",
    "```python\n",
    "modules.avail(return_str=False)\n",
    "```\n",
    "\n",
    "List all available modules. If `return_str = True`, it returns a string instead of printing on screen. \n",
    "    \n",
    "**Parameters**\n",
    "- `return_str:bool` Return a string instead of printing on screen. \n",
    "   \n",
    "   \n",
    "**Return value**\n",
    "- None.\n",
    "\n",
    "---\n",
    "```python   \n",
    "modules.load(module_name)\n",
    "```\n",
    "\n",
    "Load a module. \n",
    "\n",
    "**Parameters**\n",
    "- `module_name:str` module name, as printed by `module.avail()`\n",
    "\n",
    "**Return value**\n",
    "- None. \n",
    "\n",
    "---\n",
    "```python\n",
    "modules.loaded(return_str=False)\n",
    "```\n",
    "\n",
    "List loaded modules. \n",
    "\n",
    "**Parameters**\n",
    "- `return_str:bool` Return a string instead of printing on screen.\n",
    "\n",
    "**Return value**\n",
    "- None.\n",
    "\n",
    "---\n",
    "```python\n",
    "modules.unload(module_name)\n",
    "```\n",
    "\n",
    "Unload a module. \n",
    "\n",
    "**Parameters**\n",
    "- `module_name:str` module name, as printed by `module.avail()`\n",
    "\n",
    "**Return value**\n",
    "- None.\n",
    "\n",
    "---\n",
    "```python\n",
    "modules.run(command, capture_output=False)\n",
    "```\n",
    "\n",
    "Run a command, does not relay on the shell (i.e. safe call). \n",
    "\n",
    "**Parameters**\n",
    "- `command:[str, list]` command to execute, for example\n",
    "\n",
    "    [\"ls\", \"-a\", \"/\"]\n",
    "    \n",
    "    \"ls -a /\"\n",
    "    \n",
    "\n",
    "- `capture_output:bool` If true, returns a `CompletedProcess` object, as explained [here](https://docs.python.org/3.5/library/subprocess.html#subprocess.CompletedProcess).\n",
    "\n",
    "**Return value**\n",
    "- `int` process return code \n",
    "\n",
    "\n",
    "\n",
    "   "
   ]
  },
  {
   "cell_type": "markdown",
   "metadata": {},
   "source": [
    "## PBS scripting\n",
    "\n",
    "A PBS script tells Torque (the `qsub` command) how to run a job and what the job is, for example (taken from `kabre_usage` tutorial):"
   ]
  },
  {
   "cell_type": "raw",
   "metadata": {},
   "source": [
    "#PBS -N pi_threads\n",
    "#PBS -q phi-n1h72\n",
    "#PBS -l nodes=1:ppn=1\n",
    "#PBS -l walltime=00:15:00\n",
    "\n",
    "time ./pi_threads 64 100000000000 "
   ]
  },
  {
   "cell_type": "markdown",
   "metadata": {},
   "source": [
    "That's typical bash code. For simple jobs, writting small bash scripts is not a big deal. But sometimes, programming in bash becomes a real pain: the parser complains for meaningless white spaces, lack of handy data structures, absense of standard library, mathematical functions. \n",
    "\n",
    "The good news is that Torque is not attached to a particular interpreter, if you don't tell it what to use, bash will capture the job, but if indicated, Torque would call a particular interpreter, for example, Python. \n",
    "\n",
    "Writing a shebang at the start do the trick. Now, the problem is how to configure the requiered environment variables to compile an run appropiately. In bash, that was the job of `module` utility, here the miniclone `modules` will help us. "
   ]
  },
  {
   "cell_type": "raw",
   "metadata": {},
   "source": [
    "#!/opt/compilers/python-3.5.2/bin/python3\n",
    "\n",
    "#PBS -N pi_threads\n",
    "#PBS -q phi-n1h72\n",
    "#PBS -l nodes=1:ppn=1\n",
    "#PBS -l walltime=00:15:00\n",
    "\n",
    "import modules\n",
    "\n",
    "modules.run(\"time ./pi_threads 64 100000000000\")"
   ]
  },
  {
   "cell_type": "markdown",
   "metadata": {},
   "source": [
    "## Install and configuration\n",
    "\n",
    "If you are running on Kabré, everything should work out-of-the-box, if it doesn't, write to cnca@cenat.ac.cr. \n",
    "Modules.py source code is hosted on github, together with other utilities, this is the [repo](https://github.com/CNCA-CeNAT/Kabre-tools). \n",
    "\n",
    "Just put `modules.py` somewhere and add the following line to your bashrc:"
   ]
  },
  {
   "cell_type": "raw",
   "metadata": {},
   "source": [
    "export PYTHONPATH=$PYTHONPATH:$PATH_TO_MODULES"
   ]
  },
  {
   "cell_type": "markdown",
   "metadata": {},
   "source": [
    "And that's all you need to use modules. "
   ]
  }
 ],
 "metadata": {
  "kernelspec": {
   "display_name": "Python 3",
   "language": "python",
   "name": "python3"
  },
  "language_info": {
   "codemirror_mode": {
    "name": "ipython",
    "version": 3
   },
   "file_extension": ".py",
   "mimetype": "text/x-python",
   "name": "python",
   "nbconvert_exporter": "python",
   "pygments_lexer": "ipython3",
   "version": "3.6.0"
  }
 },
 "nbformat": 4,
 "nbformat_minor": 2
}
